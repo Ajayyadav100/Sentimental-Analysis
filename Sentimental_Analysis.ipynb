{
  "nbformat": 4,
  "nbformat_minor": 0,
  "metadata": {
    "colab": {
      "provenance": []
    },
    "kernelspec": {
      "name": "python3",
      "display_name": "Python 3"
    },
    "language_info": {
      "name": "python"
    }
  },
  "cells": [
    {
      "cell_type": "markdown",
      "source": [
        "#Project Tital:-\n",
        "Development of nlp sentiment Analysis using Hugging face , Bert and Transformers"
      ],
      "metadata": {
        "id": "lC4LCa-K7ow_"
      }
    },
    {
      "cell_type": "markdown",
      "source": [
        "### imprt LLM's"
      ],
      "metadata": {
        "id": "g7WB4d3i_4ef"
      }
    },
    {
      "cell_type": "code",
      "execution_count": 30,
      "metadata": {
        "id": "_-igudg52N3w"
      },
      "outputs": [],
      "source": [
        "# piplines for purification of txt\n",
        "from transformers import pipeline\n",
        "import matplotlib.pyplot as plt\n",
        "import time\n",
        "import sys\n"
      ]
    },
    {
      "cell_type": "markdown",
      "source": [
        "#Initialize the model"
      ],
      "metadata": {
        "id": "TIWt7fD5Abk5"
      }
    },
    {
      "cell_type": "code",
      "source": [
        "classifier = pipeline(\"text-classification\",model=\"distilbert-base-uncased-finetuned-sst-2-english\")\n"
      ],
      "metadata": {
        "colab": {
          "base_uri": "https://localhost:8080/"
        },
        "id": "sR4FpYCyAYb9",
        "outputId": "9bda394b-4786-4dea-bcb6-0031be6e2735"
      },
      "execution_count": 31,
      "outputs": [
        {
          "output_type": "stream",
          "name": "stderr",
          "text": [
            "Device set to use cpu\n"
          ]
        }
      ]
    },
    {
      "cell_type": "code",
      "source": [
        "def analysis_sentiment(text):\n",
        "  result= classifier(text)[0]\n",
        "  return result['label'],result['score']"
      ],
      "metadata": {
        "id": "hMMaepqcBUUo"
      },
      "execution_count": 32,
      "outputs": []
    },
    {
      "cell_type": "code",
      "source": [
        "def plot_results(history):\n",
        "  plt.figure(figsize=(10, 6))\n",
        "  plt.bar([f\"Round{i+1}\" for i in range(len(history))],[s[1] for s in history],color=['red' if s[0]=='POSITIVE' else 'blue' for s in history])\n",
        "  plt.xlabel('Round')\n",
        "  plt.ylabel('score')\n",
        "  plt.title('Sentiment Analysis result')\n",
        "  plt.show()"
      ],
      "metadata": {
        "id": "bJWfmorhCLCa"
      },
      "execution_count": 33,
      "outputs": []
    },
    {
      "cell_type": "code",
      "source": [
        "def main():\n",
        "    score = 0\n",
        "    rounds = 0\n",
        "    history = []\n",
        "    timeout = 300  # 5-minute timeout\n",
        "    start_time = time.time()\n",
        "\n",
        "    print(\"🎮 Sarcasm Showdown: Fool the AI! 🎮\")\n",
        "\n",
        "    try:\n",
        "        while True:\n",
        "            if time.time() - start_time > timeout:\n",
        "                print(\"\\n⏰ Time's up! Auto-closing game...\")\n",
        "                break\n",
        "\n",
        "            try:\n",
        "                user_input = input(\"\\nYour text: \").strip()\n",
        "\n",
        "                if user_input.lower() == 'quit':\n",
        "                    print(\"\\n🏆 Final Score:\", score)\n",
        "                    break\n",
        "\n",
        "                if user_input.lower() == 'plot':\n",
        "                    plot_results(history)\n",
        "                    continue\n",
        "\n",
        "                label, confidence = analysis_sentiment(user_input)\n",
        "                emoji = \"😊\" if label == \"POSITIVE\" else \"😠\"\n",
        "\n",
        "                print(f\"AI says: {emoji} ({label}, {confidence:.2f} confidence)\")\n",
        "\n",
        "                # Scoring logic\n",
        "                is_sarcasm = input(\"Was this sarcasm? (y/n): \").lower().startswith('y')\n",
        "\n",
        "                if is_sarcasm:\n",
        "                    if label == \"POSITIVE\":\n",
        "                        score += 10\n",
        "                        print(\"✅ AI fooled! +10pts\")\n",
        "                    else:\n",
        "                        score -= 5\n",
        "                        print(\"❌ AI detected sarcasm! -5pts\")\n",
        "                else:\n",
        "                    print(\"➡ AI's judgment accepted\")\n",
        "\n",
        "                rounds += 1\n",
        "                history.append((label, confidence))\n",
        "                start_time = time.time()  # Reset timeout timer\n",
        "\n",
        "                print(f\"\\nSCORE: {score} pts (Round {rounds})\")\n",
        "                print(f\"Success rate: {len([h for h in history if h[0]=='NEGATIVE'])/len(history):.1%}\")\n",
        "\n",
        "            except KeyboardInterrupt:\n",
        "                print(\"\\n🚪 Quick exit: Final score will be shown...\")\n",
        "                raise  # Re-raise to outer handler\n",
        "\n",
        "    except KeyboardInterrupt:\n",
        "        print(\"\\n⌨ Exited by keyboard command\")\n",
        "\n",
        "    finally:\n",
        "        print(\"\\n📊 Game Summary:\")\n",
        "        print(f\"- Final score: {score} pts\")\n",
        "        print(f\"- Rounds played: {rounds}\")\n",
        "        if history:\n",
        "            plot_results(history)\n",
        "\n",
        "if __name__ == \"__main__\":\n",
        "    main()"
      ],
      "metadata": {
        "colab": {
          "base_uri": "https://localhost:8080/"
        },
        "id": "Hb_TK5bwEjjR",
        "outputId": "b3211f77-7e5b-4bb3-fe1d-ee96ea8009fd"
      },
      "execution_count": null,
      "outputs": [
        {
          "output_type": "stream",
          "name": "stdout",
          "text": [
            "🎮 Sarcasm Showdown: Fool the AI! 🎮\n",
            "\n",
            "Your text: I am sad\n",
            "AI says: 😠 (NEGATIVE, 1.00 confidence)\n"
          ]
        }
      ]
    },
    {
      "cell_type": "code",
      "source": [],
      "metadata": {
        "id": "-Nzn4D-6HajR"
      },
      "execution_count": null,
      "outputs": []
    }
  ]
}